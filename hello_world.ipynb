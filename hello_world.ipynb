{
 "cells": [
  {
   "cell_type": "code",
   "execution_count": 1,
   "metadata": {},
   "outputs": [],
   "source": [
    "import numpy as np\n",
    "import matplotlib.pyplot as plt\n",
    "\n",
    "from gym_microrts import microrts_ai\n",
    "from gym_microrts.envs.vec_env import MicroRTSGridModeVecEnv"
   ]
  },
  {
   "cell_type": "code",
   "execution_count": 236,
   "metadata": {},
   "outputs": [
    {
     "data": {
      "text/plain": [
       "array([[[[0, 1, 0, ..., 0, 0, 0],\n",
       "         [1, 0, 0, ..., 0, 0, 0],\n",
       "         [1, 0, 0, ..., 0, 0, 0],\n",
       "         ...,\n",
       "         [1, 0, 0, ..., 0, 0, 0],\n",
       "         [1, 0, 0, ..., 0, 0, 0],\n",
       "         [1, 0, 0, ..., 0, 0, 0]],\n",
       "\n",
       "        [[0, 1, 0, ..., 0, 0, 0],\n",
       "         [0, 1, 0, ..., 0, 0, 0],\n",
       "         [1, 0, 0, ..., 0, 0, 0],\n",
       "         ...,\n",
       "         [1, 0, 0, ..., 0, 0, 0],\n",
       "         [1, 0, 0, ..., 0, 0, 0],\n",
       "         [1, 0, 0, ..., 0, 0, 0]],\n",
       "\n",
       "        [[1, 0, 0, ..., 0, 0, 0],\n",
       "         [1, 0, 0, ..., 0, 0, 0],\n",
       "         [0, 0, 0, ..., 0, 0, 0],\n",
       "         ...,\n",
       "         [1, 0, 0, ..., 0, 0, 0],\n",
       "         [1, 0, 0, ..., 0, 0, 0],\n",
       "         [1, 0, 0, ..., 0, 0, 0]],\n",
       "\n",
       "        ...,\n",
       "\n",
       "        [[1, 0, 0, ..., 0, 0, 0],\n",
       "         [1, 0, 0, ..., 0, 0, 0],\n",
       "         [1, 0, 0, ..., 0, 0, 0],\n",
       "         ...,\n",
       "         [0, 0, 0, ..., 0, 0, 0],\n",
       "         [1, 0, 0, ..., 0, 0, 0],\n",
       "         [1, 0, 0, ..., 0, 0, 0]],\n",
       "\n",
       "        [[1, 0, 0, ..., 0, 0, 0],\n",
       "         [1, 0, 0, ..., 0, 0, 0],\n",
       "         [1, 0, 0, ..., 0, 0, 0],\n",
       "         ...,\n",
       "         [1, 0, 0, ..., 0, 0, 0],\n",
       "         [0, 1, 0, ..., 0, 0, 0],\n",
       "         [0, 1, 0, ..., 0, 0, 0]],\n",
       "\n",
       "        [[1, 0, 0, ..., 0, 0, 0],\n",
       "         [1, 0, 0, ..., 0, 0, 0],\n",
       "         [1, 0, 0, ..., 0, 0, 0],\n",
       "         ...,\n",
       "         [1, 0, 0, ..., 0, 0, 0],\n",
       "         [1, 0, 0, ..., 0, 0, 0],\n",
       "         [0, 1, 0, ..., 0, 0, 0]]]], dtype=int32)"
      ]
     },
     "execution_count": 236,
     "metadata": {},
     "output_type": "execute_result"
    }
   ],
   "source": [
    "envs = MicroRTSGridModeVecEnv(\n",
    "    num_selfplay_envs=0,\n",
    "    num_bot_envs=1,\n",
    "    max_steps=2000,\n",
    "    render_theme=2,\n",
    "    ai2s=[microrts_ai.coacAI for _ in range(1)],\n",
    "    #ai2s=[microrts_ai.vulcanMCTSAI for _ in range(1)],\n",
    "    map_paths=[\"maps/16x16/basesWorkers16x16.xml\"],\n",
    "    reward_weight=np.array([10.0, 1.0, 1.0, 0.2, 1.0, 4.0]),\n",
    ")\n",
    "envs.reset()"
   ]
  },
  {
   "cell_type": "markdown",
   "metadata": {},
   "source": [
    "#### For i in range 1000"
   ]
  },
  {
   "cell_type": "code",
   "execution_count": 262,
   "metadata": {},
   "outputs": [
    {
     "data": {
      "text/plain": [
       "(256, 78)"
      ]
     },
     "execution_count": 262,
     "metadata": {},
     "output_type": "execute_result"
    }
   ],
   "source": [
    "action_mask = envs.get_action_mask()\n",
    "action_mask = action_mask.reshape(-1, action_mask.shape[-1])\n",
    "action_mask.shape"
   ]
  },
  {
   "cell_type": "code",
   "execution_count": 263,
   "metadata": {},
   "outputs": [
    {
     "data": {
      "text/plain": [
       "(16, 16, 78)"
      ]
     },
     "execution_count": 263,
     "metadata": {},
     "output_type": "execute_result"
    }
   ],
   "source": [
    "action_mask_tiles = action_mask.reshape(16, 16, -1)\n",
    "action_mask_tiles.shape"
   ]
  },
  {
   "cell_type": "code",
   "execution_count": 264,
   "metadata": {},
   "outputs": [
    {
     "data": {
      "image/png": "[encoded data removed]",
      "text/plain": [
       "<Figure size 500x500 with 1 Axes>"
      ]
     },
     "metadata": {},
     "output_type": "display_data"
    }
   ],
   "source": [
    "plt.figure(figsize=(5, 5))\n",
    "plt.imshow(action_mask_tiles.sum(-1))\n",
    "\n",
    "plt.gca().set_xticks(np.arange(-.5, 16, 1), minor=True)\n",
    "plt.gca().set_yticks(np.arange(-.5, 16, 1), minor=True)\n",
    "plt.grid(which=\"minor\", axis=\"both\", linestyle=\"-\", color=\"k\", linewidth=1)\n",
    "\n",
    "plt.xticks(np.arange(0, 16, 1))\n",
    "plt.yticks(np.arange(0, 16, 1))\n",
    "plt.xlabel(\"x\")\n",
    "plt.ylabel(\"y\")\n",
    "\n",
    "plt.title(\"Action Mask\")\n",
    "plt.show()"
   ]
  },
  {
   "cell_type": "code",
   "execution_count": 267,
   "metadata": {},
   "outputs": [
    {
     "name": "stdout",
     "output_type": "stream",
     "text": [
      "Action Type:\n",
      "\u001b[1m   1   \u001b[0m \u001b[1m   1   \u001b[0m    0       0    \u001b[1m   1   \u001b[0m    0    \n",
      "\u001b[1m NOOP  \u001b[0m \u001b[1m move  \u001b[0m harvest return  \u001b[1mproduce\u001b[0m attack  \n",
      "\n",
      "Move Parameter:\n",
      "\u001b[1m   1   \u001b[0m    0    \u001b[1m   1   \u001b[0m \u001b[1m   1   \u001b[0m \n",
      "\u001b[1m north \u001b[0m  east   \u001b[1m south \u001b[0m \u001b[1m west  \u001b[0m \n",
      "\n",
      "Harvest Parameter:\n",
      "   0       0       0       0    \n",
      " north   east    south   west   \n",
      "\n",
      "Return Parameter:\n",
      "   0       0       0       0    \n",
      " north   east    south   west   \n",
      "\n",
      "Produce Direction Parameter:\n",
      "\u001b[1m   1   \u001b[0m    0    \u001b[1m   1   \u001b[0m \u001b[1m   1   \u001b[0m \n",
      "\u001b[1m north \u001b[0m  east   \u001b[1m south \u001b[0m \u001b[1m west  \u001b[0m \n",
      "\n",
      "Produce Unit Type Parameter:\n",
      "   0       0    \u001b[1m   1   \u001b[0m    0       0       0       0    \n",
      "resource  base   \u001b[1mbarracks\u001b[0m worker   light   heavy  ranged  \n",
      "\n",
      "Attack Target Parameter:\n",
      "[[0 0 0 0 0 0 0]\n",
      " [0 0 0 0 0 0 0]\n",
      " [0 0 0 0 0 0 0]\n",
      " [0 0 0 0 0 0 0]\n",
      " [0 0 0 0 0 0 0]\n",
      " [0 0 0 0 0 0 0]\n",
      " [0 0 0 0 0 0 0]]\n",
      "\n"
     ]
    }
   ],
   "source": [
    "def print_action_space(action_mask_tile):\n",
    "    # (action_mask[0:6]),  # action type: {NOOP, move, harvest, return, produce, attack}\n",
    "    # (action_mask[6:10]),  # move parameter: {north, east, south, west}\n",
    "    # (action_mask[10:14]),  # harvest parameter: {north, east, south, west}\n",
    "    # (action_mask[14:18]),  # return parameter: {north, east, south, west}\n",
    "    # (action_mask[18:22]),  # produce_direction parameter: {north, east, south, west}\n",
    "    # (action_mask[22:29]),  # produce_unit_type parameter: {resource, base, barracks, worker, light, heavy, ranged}\n",
    "    # (action_mask[29 : sum(envs.action_space.nvec[1:])]),  # attack_target parameter: relative position of the unit that will be attacked\n",
    "\n",
    "    # visualization of the action space for a given tile, translating where 1 means that the corresponding action is available\n",
    "    \n",
    "    action_types = [\"NOOP\", \"move\", \"harvest\", \"return\", \"produce\", \"attack\"]\n",
    "\n",
    "    print(\"Action Type:\")\n",
    "    mask = action_mask_tile[0:6]\n",
    "    print_masked(mask, mask)\n",
    "    print_masked(mask, action_types)\n",
    "    print()\n",
    "\n",
    "    location_parameters = [\"north\", \"east\", \"south\", \"west\"]\n",
    "\n",
    "    print(\"Move Parameter:\")\n",
    "    mask = action_mask_tile[6:10]\n",
    "    print_masked(mask, mask)\n",
    "    print_masked(mask, location_parameters)\n",
    "    print()\n",
    "\n",
    "    print(\"Harvest Parameter:\")\n",
    "    mask = action_mask_tile[10:14]\n",
    "    print_masked(mask, mask)\n",
    "    print_masked(mask, location_parameters)\n",
    "    print()\n",
    "\n",
    "    print(\"Return Parameter:\")\n",
    "    mask = action_mask_tile[14:18]\n",
    "    print_masked(mask, mask)\n",
    "    print_masked(mask, location_parameters)\n",
    "    print()\n",
    "\n",
    "    print(\"Produce Direction Parameter:\")\n",
    "    mask = action_mask_tile[18:22]\n",
    "    print_masked(mask, mask)\n",
    "    print_masked(mask, location_parameters)\n",
    "    print()\n",
    "\n",
    "    unit_types = [\"resource\", \"base\", \"barracks\", \"worker\", \"light\", \"heavy\", \"ranged\"]\n",
    "\n",
    "    print(\"Produce Unit Type Parameter:\")\n",
    "    mask = action_mask_tile[22:29]\n",
    "    print_masked(mask, mask)\n",
    "    print_masked(mask, unit_types)\n",
    "    print()\n",
    "\n",
    "    print(\"Attack Target Parameter:\")\n",
    "    mask = action_mask_tile[29:sum(envs.action_space.nvec[1:])]\n",
    "    print(mask.reshape(7, 7))\n",
    "    print()\n",
    "\n",
    "\n",
    "def print_masked(mask, params):\n",
    "    for i, param in enumerate(params):\n",
    "        if mask[i] == 1:\n",
    "            print(f\"\\033[1m{param: ^7}\\033[0m\", end=\" \")\n",
    "        else:\n",
    "            print(f'{param: ^7}', end=\" \")\n",
    "    print()\n",
    "\n",
    "\n",
    "print_action_space(action_mask_tiles[2][1])\n",
    "    "
   ]
  },
  {
   "cell_type": "code",
   "execution_count": 241,
   "metadata": {},
   "outputs": [
    {
     "data": {
      "text/plain": [
       "[[1, 0, 0, 0, 0, 0],\n",
       " [0, 0, 0, 0],\n",
       " [0, 0, 0, 0],\n",
       " [0, 0, 0, 0],\n",
       " [0, 0, 0, 0],\n",
       " [0, 0, 0, 0, 0, 0, 0],\n",
       " array([0., 0., 0., ..., 0., 0., 0.])]"
      ]
     },
     "execution_count": 241,
     "metadata": {},
     "output_type": "execute_result"
    }
   ],
   "source": [
    "[\n",
    "    [1, 0, 0, 0, 0, 0],  # action type: {NOOP, move, harvest, return, produce, attack}\n",
    "    [0, 0, 0, 0],  # move parameter: {north, east, south, west}\n",
    "    [0, 0, 0, 0],  # harvest parameter: {north, east, south, west}\n",
    "    [0, 0, 0, 0],  # return parameter: {north, east, south, west}\n",
    "    [0, 0, 0, 0],  # produce_direction parameter: {north, east, south, west}\n",
    "    [0, 0, 0, 0, 0, 0, 0],  # produce_unit_type parameter: {resource, base, barracks, worker, light, heavy, ranged}\n",
    "    np.zeros(sum(envs.action_space.nvec[1:]))  # attack_target parameter: relative position of the unit that will be attacked\n",
    "]"
   ]
  },
  {
   "cell_type": "code",
   "execution_count": 278,
   "metadata": {},
   "outputs": [
    {
     "data": {
      "text/plain": [
       "(7,)"
      ]
     },
     "execution_count": 278,
     "metadata": {},
     "output_type": "execute_result"
    }
   ],
   "source": [
    "action_tile = np.array([\n",
    "    1,  # action type: {NOOP, move, harvest, return, produce, attack}\n",
    "    2,  # move parameter: {north, east, south, west}\n",
    "    0,  # harvest parameter: {north, east, south, west}\n",
    "    0,  # return parameter: {north, east, south, west}\n",
    "    0,  # produce_direction parameter: {north, east, south, west}\n",
    "    0,  # produce_unit_type parameter: {resource, base, barracks, worker, light, heavy, ranged}\n",
    "    0  # attack_target parameter: relative position of the unit that will be attacked\n",
    "])\n",
    "action_tile.shape"
   ]
  },
  {
   "cell_type": "code",
   "execution_count": 286,
   "metadata": {},
   "outputs": [
    {
     "data": {
      "text/plain": [
       "(16, 16, 7)"
      ]
     },
     "execution_count": 286,
     "metadata": {},
     "output_type": "execute_result"
    }
   ],
   "source": [
    "action = np.zeros((16, 16, 7))\n",
    "action.shape"
   ]
  },
  {
   "cell_type": "code",
   "execution_count": 287,
   "metadata": {},
   "outputs": [],
   "source": [
    "action[1][1] = action_tile\n",
    "#action[2][1] = action_tile"
   ]
  },
  {
   "cell_type": "code",
   "execution_count": 281,
   "metadata": {},
   "outputs": [
    {
     "data": {
      "text/plain": [
       "array([1., 2., 0., 0., 0., 0., 0.])"
      ]
     },
     "execution_count": 281,
     "metadata": {},
     "output_type": "execute_result"
    }
   ],
   "source": [
    "action[1][1]"
   ]
  },
  {
   "cell_type": "code",
   "execution_count": 284,
   "metadata": {},
   "outputs": [
    {
     "data": {
      "text/plain": [
       "array([[[[0, 1, 0, ..., 0, 0, 0],\n",
       "         [1, 0, 0, ..., 0, 0, 0],\n",
       "         [1, 0, 0, ..., 0, 0, 0],\n",
       "         ...,\n",
       "         [1, 0, 0, ..., 0, 0, 0],\n",
       "         [1, 0, 0, ..., 0, 0, 0],\n",
       "         [1, 0, 0, ..., 0, 0, 0]],\n",
       "\n",
       "        [[0, 1, 0, ..., 0, 0, 0],\n",
       "         [0, 1, 0, ..., 0, 0, 0],\n",
       "         [1, 0, 0, ..., 0, 0, 0],\n",
       "         ...,\n",
       "         [1, 0, 0, ..., 0, 0, 0],\n",
       "         [1, 0, 0, ..., 0, 0, 0],\n",
       "         [1, 0, 0, ..., 0, 0, 0]],\n",
       "\n",
       "        [[1, 0, 0, ..., 0, 0, 0],\n",
       "         [1, 0, 0, ..., 0, 0, 0],\n",
       "         [0, 0, 0, ..., 0, 0, 0],\n",
       "         ...,\n",
       "         [1, 0, 0, ..., 0, 0, 0],\n",
       "         [1, 0, 0, ..., 0, 0, 0],\n",
       "         [1, 0, 0, ..., 0, 0, 0]],\n",
       "\n",
       "        ...,\n",
       "\n",
       "        [[1, 0, 0, ..., 0, 0, 0],\n",
       "         [1, 0, 0, ..., 0, 0, 0],\n",
       "         [1, 0, 0, ..., 0, 0, 0],\n",
       "         ...,\n",
       "         [0, 0, 0, ..., 0, 0, 0],\n",
       "         [1, 0, 0, ..., 0, 0, 0],\n",
       "         [1, 0, 0, ..., 0, 0, 0]],\n",
       "\n",
       "        [[1, 0, 0, ..., 0, 0, 0],\n",
       "         [1, 0, 0, ..., 0, 0, 0],\n",
       "         [1, 0, 0, ..., 0, 0, 0],\n",
       "         ...,\n",
       "         [1, 0, 0, ..., 0, 0, 0],\n",
       "         [0, 1, 0, ..., 0, 0, 0],\n",
       "         [0, 1, 0, ..., 0, 0, 0]],\n",
       "\n",
       "        [[1, 0, 0, ..., 0, 0, 0],\n",
       "         [1, 0, 0, ..., 0, 0, 0],\n",
       "         [1, 0, 0, ..., 0, 0, 0],\n",
       "         ...,\n",
       "         [1, 0, 0, ..., 0, 0, 0],\n",
       "         [1, 0, 0, ..., 0, 0, 0],\n",
       "         [0, 1, 0, ..., 0, 0, 0]]]], dtype=int32)"
      ]
     },
     "execution_count": 284,
     "metadata": {},
     "output_type": "execute_result"
    }
   ],
   "source": [
    "envs.reset()"
   ]
  },
  {
   "cell_type": "code",
   "execution_count": 288,
   "metadata": {},
   "outputs": [
    {
     "data": {
      "image/png": "[encoded data removed]",
      "text/plain": [
       "<Figure size 640x480 with 1 Axes>"
      ]
     },
     "metadata": {},
     "output_type": "display_data"
    }
   ],
   "source": [
    "for i in range(50):\n",
    "    response = envs.step(\n",
    "        action\n",
    "    )\n",
    "\n",
    "    img = envs.render(mode='rgb_array')\n",
    "    plt.imshow(img)"
   ]
  },
  {
   "cell_type": "code",
   "execution_count": null,
   "metadata": {},
   "outputs": [],
   "source": []
  },
  {
   "cell_type": "code",
   "execution_count": 163,
   "metadata": {},
   "outputs": [
    {
     "data": {
      "text/plain": [
       "array([[[1., 1., 1., ..., 1., 1., 1.],\n",
       "        [1., 1., 1., ..., 1., 1., 1.],\n",
       "        [1., 1., 1., ..., 1., 1., 1.],\n",
       "        ...,\n",
       "        [1., 1., 1., ..., 1., 1., 1.],\n",
       "        [1., 1., 1., ..., 1., 1., 1.],\n",
       "        [1., 1., 1., ..., 1., 1., 1.]],\n",
       "\n",
       "       [[1., 1., 1., ..., 1., 1., 1.],\n",
       "        [1., 1., 1., ..., 1., 1., 1.],\n",
       "        [1., 1., 1., ..., 1., 1., 1.],\n",
       "        ...,\n",
       "        [1., 1., 1., ..., 1., 1., 1.],\n",
       "        [1., 1., 1., ..., 1., 1., 1.],\n",
       "        [1., 1., 1., ..., 1., 1., 1.]],\n",
       "\n",
       "       [[1., 1., 1., ..., 1., 1., 1.],\n",
       "        [1., 1., 1., ..., 1., 1., 1.],\n",
       "        [1., 1., 1., ..., 1., 1., 1.],\n",
       "        ...,\n",
       "        [1., 1., 1., ..., 1., 1., 1.],\n",
       "        [1., 1., 1., ..., 1., 1., 1.],\n",
       "        [1., 1., 1., ..., 1., 1., 1.]],\n",
       "\n",
       "       ...,\n",
       "\n",
       "       [[1., 1., 1., ..., 1., 1., 1.],\n",
       "        [1., 1., 1., ..., 1., 1., 1.],\n",
       "        [1., 1., 1., ..., 1., 1., 1.],\n",
       "        ...,\n",
       "        [1., 1., 1., ..., 1., 1., 1.],\n",
       "        [1., 1., 1., ..., 1., 1., 1.],\n",
       "        [1., 1., 1., ..., 1., 1., 1.]],\n",
       "\n",
       "       [[1., 1., 1., ..., 1., 1., 1.],\n",
       "        [1., 1., 1., ..., 1., 1., 1.],\n",
       "        [1., 1., 1., ..., 1., 1., 1.],\n",
       "        ...,\n",
       "        [1., 1., 1., ..., 1., 1., 1.],\n",
       "        [1., 1., 1., ..., 1., 1., 1.],\n",
       "        [1., 1., 1., ..., 1., 1., 1.]],\n",
       "\n",
       "       [[1., 1., 1., ..., 1., 1., 1.],\n",
       "        [1., 1., 1., ..., 1., 1., 1.],\n",
       "        [1., 1., 1., ..., 1., 1., 1.],\n",
       "        ...,\n",
       "        [1., 1., 1., ..., 1., 1., 1.],\n",
       "        [1., 1., 1., ..., 1., 1., 1.],\n",
       "        [1., 1., 1., ..., 1., 1., 1.]]])"
      ]
     },
     "execution_count": 163,
     "metadata": {},
     "output_type": "execute_result"
    }
   ],
   "source": [
    "action "
   ]
  },
  {
   "cell_type": "code",
   "execution_count": 132,
   "metadata": {},
   "outputs": [],
   "source": [
    "action_mask = envs.get_action_mask()\n",
    "action_mask = action_mask.reshape(-1, action_mask.shape[-1])"
   ]
  },
  {
   "cell_type": "code",
   "execution_count": 133,
   "metadata": {},
   "outputs": [
    {
     "data": {
      "text/plain": [
       "(256, 78)"
      ]
     },
     "execution_count": 133,
     "metadata": {},
     "output_type": "execute_result"
    }
   ],
   "source": [
    "action_mask.shape"
   ]
  },
  {
   "cell_type": "code",
   "execution_count": null,
   "metadata": {},
   "outputs": [],
   "source": []
  }
 ],
 "metadata": {
  "kernelspec": {
   "display_name": "spinningup",
   "language": "python",
   "name": "python3"
  },
  "language_info": {
   "codemirror_mode": {
    "name": "ipython",
    "version": 3
   },
   "file_extension": ".py",
   "mimetype": "text/x-python",
   "name": "python",
   "nbconvert_exporter": "python",
   "pygments_lexer": "ipython3",
   "version": "3.9.0"
  }
 },
 "nbformat": 4,
 "nbformat_minor": 2
}
