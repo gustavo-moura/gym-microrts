{
 "cells": [
  {
   "cell_type": "code",
   "execution_count": 9,
   "metadata": {},
   "outputs": [
    {
     "name": "stdout",
     "output_type": "stream",
     "text": [
      "The autoreload extension is already loaded. To reload it, use:\n",
      "  %reload_ext autoreload\n"
     ]
    }
   ],
   "source": [
    "%load_ext autoreload\n",
    "%autoreload 2"
   ]
  },
  {
   "cell_type": "code",
   "execution_count": 10,
   "metadata": {},
   "outputs": [],
   "source": [
    "import numpy as np\n",
    "import matplotlib.pyplot as plt\n",
    "\n",
    "from gym_microrts import microrts_ai\n",
    "from gym_microrts.envs.vec_env import MicroRTSGridModeVecEnv\n",
    "\n",
    "from llm.nashor import Nashor\n",
    "import llm.prompts as prompts\n",
    "\n",
    "from gus.utils import save_video\n"
   ]
  },
  {
   "cell_type": "markdown",
   "metadata": {},
   "source": [
    "# Game Lifecycle"
   ]
  },
  {
   "cell_type": "code",
   "execution_count": 19,
   "metadata": {},
   "outputs": [
    {
     "data": {
      "image/png": "[encoded data removed]",
      "text/plain": [
       "<Figure size 640x480 with 1 Axes>"
      ]
     },
     "metadata": {},
     "output_type": "display_data"
    }
   ],
   "source": [
    "max_steps = 500\n",
    "map_size = 8\n",
    "no_action = np.zeros((1, map_size*map_size, 78))\n",
    "\n",
    "envs = MicroRTSGridModeVecEnv(\n",
    "    num_selfplay_envs=0,\n",
    "    num_bot_envs=1,\n",
    "    max_steps=max_steps,\n",
    "    render_theme=2,\n",
    "    ai2s=[microrts_ai.passiveAI for _ in range(1)],\n",
    "    # ai2s=[microrts_ai.randomAI for _ in range(1)],\n",
    "    # ai2s=[microrts_ai.naiveMCTSAI for _ in range(1)],\n",
    "    # ai2s=[microrts_ai.coacAI for _ in range(1)],\n",
    "    # map_paths=[\"maps/4x4/base4x4.xml\"],\n",
    "    map_paths=[\"maps/8x8/basesWorkers8x8.xml\"],\n",
    "    # map_paths=[\"maps/8x8/melee8x8Mixed7.xml\"],\n",
    "    reward_weight=np.array([10.0, 1.0, 1.0, 0.2, 1.0, 4.0]),\n",
    ")\n",
    "response = envs.reset()\n",
    "action_mask = envs.get_action_mask()\n",
    "img = envs.render(mode='rgb_array')\n",
    "plt.imshow(img)\n",
    "\n",
    "exp_name = 'exp_basesWorkers8x8_passiveAI_500_gemma7b_listRandom'\n",
    "nashor = Nashor(\n",
    "    map_size=map_size, \n",
    "    log_file_name=exp_name + \".log\",\n",
    "    prompt_function=prompts.list_random,\n",
    "    llm='gemma:7b',\n",
    ")"
   ]
  },
  {
   "cell_type": "code",
   "execution_count": 20,
   "metadata": {},
   "outputs": [
    {
     "name": "stdout",
     "output_type": "stream",
     "text": [
      "t = 20\n",
      "t = 40\n",
      "t = 60\n",
      "t = 80\n",
      "t = 100\n",
      "t = 120\n",
      "t = 140\n",
      "t = 160\n",
      "t = 180\n",
      "t = 200\n",
      "t = 220\n",
      "t = 240\n",
      "t = 260\n",
      "t = 280\n",
      "t = 300\n",
      "t = 320\n",
      "t = 340\n",
      "t = 360\n",
      "t = 380\n",
      "t = 400\n",
      "t = 420\n",
      "t = 440\n",
      "t = 460\n",
      "t = 480\n",
      "done\n",
      "Video saved\n"
     ]
    }
   ],
   "source": [
    "images = []\n",
    "action = no_action\n",
    "for t in range(max_steps):\n",
    "\n",
    "    if t%20 == 0 and t != 0:\n",
    "        print(f\"{t = }\")\n",
    "        action_mask = envs.get_action_mask()\n",
    "        action = nashor.get_action(action_mask, response[0])\n",
    "        #import pdb; pdb.set_trace()\n",
    "        \n",
    "    response = envs.step(action)\n",
    "\n",
    "    img = envs.render(mode='rgb_array')\n",
    "    images.append(img)    \n",
    "\n",
    "    if response[2][0]:\n",
    "        print(\"done\")\n",
    "        break\n",
    "\n",
    "save_video(images, path=exp_name + \".mp4\")"
   ]
  },
  {
   "cell_type": "code",
   "execution_count": 8,
   "metadata": {},
   "outputs": [
    {
     "name": "stdout",
     "output_type": "stream",
     "text": [
      "Video saved\n"
     ]
    }
   ],
   "source": [
    "save_video(images, path=exp_name + \".mp4\")"
   ]
  },
  {
   "cell_type": "code",
   "execution_count": null,
   "metadata": {},
   "outputs": [],
   "source": []
  }
 ],
 "metadata": {
  "kernelspec": {
   "display_name": "spinningup",
   "language": "python",
   "name": "python3"
  },
  "language_info": {
   "codemirror_mode": {
    "name": "ipython",
    "version": 3
   },
   "file_extension": ".py",
   "mimetype": "text/x-python",
   "name": "python",
   "nbconvert_exporter": "python",
   "pygments_lexer": "ipython3",
   "version": "3.9.0"
  }
 },
 "nbformat": 4,
 "nbformat_minor": 2
}
