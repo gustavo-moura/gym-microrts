{
 "cells": [
  {
   "cell_type": "code",
   "execution_count": 1,
   "metadata": {},
   "outputs": [],
   "source": [
    "import numpy as np\n",
    "import matplotlib.pyplot as plt\n",
    "\n",
    "from gym_microrts import microrts_ai\n",
    "from gym_microrts.envs.vec_env import MicroRTSGridModeVecEnv"
   ]
  },
  {
   "cell_type": "code",
   "execution_count": 2,
   "metadata": {},
   "outputs": [],
   "source": [
    "map_size = 4\n",
    "envs = MicroRTSGridModeVecEnv(\n",
    "    num_selfplay_envs=0,\n",
    "    num_bot_envs=1,\n",
    "    max_steps=2000,\n",
    "    render_theme=2,\n",
    "    ai2s=[microrts_ai.coacAI for _ in range(1)],\n",
    "    #ai2s=[microrts_ai.vulcanMCTSAI for _ in range(1)],\n",
    "    map_paths=[\"maps/4x4/base4x4.xml\"],\n",
    "    reward_weight=np.array([10.0, 1.0, 1.0, 0.2, 1.0, 4.0]),\n",
    ")\n",
    "_ = envs.reset()"
   ]
  },
  {
   "cell_type": "markdown",
   "metadata": {},
   "source": [
    "#### For i in range 1000"
   ]
  },
  {
   "cell_type": "code",
   "execution_count": 3,
   "metadata": {},
   "outputs": [
    {
     "data": {
      "text/plain": [
       "(16, 78)"
      ]
     },
     "execution_count": 3,
     "metadata": {},
     "output_type": "execute_result"
    }
   ],
   "source": [
    "action_mask = envs.get_action_mask()\n",
    "action_mask = action_mask.reshape(-1, action_mask.shape[-1])\n",
    "action_mask.shape"
   ]
  },
  {
   "cell_type": "code",
   "execution_count": 4,
   "metadata": {},
   "outputs": [
    {
     "data": {
      "text/plain": [
       "(4, 4, 78)"
      ]
     },
     "execution_count": 4,
     "metadata": {},
     "output_type": "execute_result"
    }
   ],
   "source": [
    "action_mask_tiles = action_mask.reshape(map_size, map_size, -1)\n",
    "action_mask_tiles.shape"
   ]
  },
  {
   "cell_type": "code",
   "execution_count": 5,
   "metadata": {},
   "outputs": [
    {
     "data": {
      "image/png": "[encoded data removed]",
      "text/plain": [
       "<Figure size 500x500 with 1 Axes>"
      ]
     },
     "metadata": {},
     "output_type": "display_data"
    }
   ],
   "source": [
    "plt.figure(figsize=(5, 5))\n",
    "plt.imshow(action_mask_tiles.sum(-1))\n",
    "\n",
    "plt.gca().set_xticks(np.arange(-.5, map_size, 1), minor=True)\n",
    "plt.gca().set_yticks(np.arange(-.5, map_size, 1), minor=True)\n",
    "plt.grid(which=\"minor\", axis=\"both\", linestyle=\"-\", color=\"k\", linewidth=1)\n",
    "\n",
    "plt.xticks(np.arange(0, map_size, 1))\n",
    "plt.yticks(np.arange(0, map_size, 1))\n",
    "plt.xlabel(\"x\")\n",
    "plt.ylabel(\"y\")\n",
    "\n",
    "plt.title(\"Action Mask\")\n",
    "plt.show()"
   ]
  },
  {
   "cell_type": "code",
   "execution_count": 6,
   "metadata": {},
   "outputs": [
    {
     "name": "stdout",
     "output_type": "stream",
     "text": [
      "Action Type:\n",
      "\u001b[1m   1   \u001b[0m \u001b[1m   1   \u001b[0m \u001b[1m   1   \u001b[0m    0    \u001b[1m   1   \u001b[0m    0    \n",
      "\u001b[1m NOOP  \u001b[0m \u001b[1m move  \u001b[0m \u001b[1mharvest\u001b[0m return  \u001b[1mproduce\u001b[0m attack  \n",
      "\n",
      "Move Parameter:\n",
      "   0    \u001b[1m   1   \u001b[0m    0       0    \n",
      " north  \u001b[1m east  \u001b[0m  south   west   \n",
      "\n",
      "Harvest Parameter:\n",
      "   0       0       0    \u001b[1m   1   \u001b[0m \n",
      " north   east    south  \u001b[1m west  \u001b[0m \n",
      "\n",
      "Return Parameter:\n",
      "   0       0       0       0    \n",
      " north   east    south   west   \n",
      "\n",
      "Produce Direction Parameter:\n",
      "   0    \u001b[1m   1   \u001b[0m    0       0    \n",
      " north  \u001b[1m east  \u001b[0m  south   west   \n",
      "\n",
      "Produce Unit Type Parameter:\n",
      "   0       0    \u001b[1m   1   \u001b[0m    0       0       0       0    \n",
      "resource  base   \u001b[1mbarracks\u001b[0m worker   light   heavy  ranged  \n",
      "\n",
      "Attack Target Parameter:\n",
      "[[0 0 0 0 0 0 0]\n",
      " [0 0 0 0 0 0 0]\n",
      " [0 0 0 0 0 0 0]\n",
      " [0 0 0 0 0 0 0]\n",
      " [0 0 0 0 0 0 0]\n",
      " [0 0 0 0 0 0 0]\n",
      " [0 0 0 0 0 0 0]]\n",
      "\n"
     ]
    }
   ],
   "source": [
    "def print_action_space(action_mask_tile):\n",
    "    # (action_mask[0:6]),  # action type: {NOOP, move, harvest, return, produce, attack}\n",
    "    # (action_mask[6:10]),  # move parameter: {north, east, south, west}\n",
    "    # (action_mask[10:14]),  # harvest parameter: {north, east, south, west}\n",
    "    # (action_mask[14:18]),  # return parameter: {north, east, south, west}\n",
    "    # (action_mask[18:22]),  # produce_direction parameter: {north, east, south, west}\n",
    "    # (action_mask[22:29]),  # produce_unit_type parameter: {resource, base, barracks, worker, light, heavy, ranged}\n",
    "    # (action_mask[29 : sum(envs.action_space.nvec[1:])]),  # attack_target parameter: relative position of the unit that will be attacked\n",
    "\n",
    "    # visualization of the action space for a given tile, translating where 1 means that the corresponding action is available\n",
    "    \n",
    "    action_types = [\"NOOP\", \"move\", \"harvest\", \"return\", \"produce\", \"attack\"]\n",
    "\n",
    "    print(\"Action Type:\")\n",
    "    mask = action_mask_tile[0:6]\n",
    "    print_masked(mask, mask)\n",
    "    print_masked(mask, action_types)\n",
    "    print()\n",
    "\n",
    "    location_parameters = [\"north\", \"east\", \"south\", \"west\"]\n",
    "\n",
    "    print(\"Move Parameter:\")\n",
    "    mask = action_mask_tile[6:10]\n",
    "    print_masked(mask, mask)\n",
    "    print_masked(mask, location_parameters)\n",
    "    print()\n",
    "\n",
    "    print(\"Harvest Parameter:\")\n",
    "    mask = action_mask_tile[10:14]\n",
    "    print_masked(mask, mask)\n",
    "    print_masked(mask, location_parameters)\n",
    "    print()\n",
    "\n",
    "    print(\"Return Parameter:\")\n",
    "    mask = action_mask_tile[14:18]\n",
    "    print_masked(mask, mask)\n",
    "    print_masked(mask, location_parameters)\n",
    "    print()\n",
    "\n",
    "    print(\"Produce Direction Parameter:\")\n",
    "    mask = action_mask_tile[18:22]\n",
    "    print_masked(mask, mask)\n",
    "    print_masked(mask, location_parameters)\n",
    "    print()\n",
    "\n",
    "    unit_types = [\"resource\", \"base\", \"barracks\", \"worker\", \"light\", \"heavy\", \"ranged\"]\n",
    "\n",
    "    print(\"Produce Unit Type Parameter:\")\n",
    "    mask = action_mask_tile[22:29]\n",
    "    print_masked(mask, mask)\n",
    "    print_masked(mask, unit_types)\n",
    "    print()\n",
    "\n",
    "    print(\"Attack Target Parameter:\")\n",
    "    mask = action_mask_tile[29:sum(envs.action_space.nvec[1:])]\n",
    "    print(mask.reshape(7, 7))\n",
    "    print()\n",
    "\n",
    "\n",
    "def print_masked(mask, params):\n",
    "    for i, param in enumerate(params):\n",
    "        if mask[i] == 1:\n",
    "            print(f\"\\033[1m{param: ^7}\\033[0m\", end=\" \")\n",
    "        else:\n",
    "            print(f'{param: ^7}', end=\" \")\n",
    "    print()\n",
    "\n",
    "\n",
    "print_action_space(action_mask_tiles[0][1])\n",
    "    "
   ]
  },
  {
   "cell_type": "code",
   "execution_count": 7,
   "metadata": {},
   "outputs": [],
   "source": [
    "rows_letters = [\"A\", \"B\", \"C\", \"D\", \"E\", \"F\", \"G\", \"H\", \"I\", \"J\", \"K\", \"L\", \"M\", \"N\", \"O\", \"P\", \"Q\", \"R\", \"S\", \"T\", \"U\", \"V\", \"W\", \"X\", \"Y\", \"Z\"]\n",
    "action_types = [\"NOOP\", \"move\", \"harvest\", \"return\", \"produce\", \"attack\"]\n",
    "location_parameters = [\"north\", \"east\", \"south\", \"west\"]\n",
    "unit_types = [\"resource\", \"base\", \"barracks\", \"worker\", \"light\", \"heavy\", \"ranged\"]\n",
    "\n",
    "\n",
    "def action_mask_to_string(action_mask_tiles, row, col):\n",
    "\n",
    "    resulting_strings = []\n",
    "\n",
    "\n",
    "    unit = f\"{rows_letters[row]}{col}\"\n",
    "\n",
    "    # NOOP\n",
    "    if action_mask_tiles[0] == 1:\n",
    "        print(f\"({unit}, NOOP)\")\n",
    "        resulting_strings.append(f\"({unit}, NOOP)\")\n",
    "\n",
    "    # move\n",
    "    if action_mask_tiles[1] == 1:\n",
    "        for i, param in zip(action_mask_tiles[6:10], location_parameters):\n",
    "            if i == 1:\n",
    "                print(f\"({unit}, move, {param})\")\n",
    "                resulting_strings.append(f\"({unit}, move, {param})\")\n",
    "\n",
    "    # harvest\n",
    "    if action_mask_tiles[2] == 1:\n",
    "        for i, param in zip(action_mask_tiles[10:14], location_parameters):\n",
    "            if i == 1:\n",
    "                print(f\"({unit}, harvest, {param})\")\n",
    "                resulting_strings.append(f\"({unit}, harvest, {param})\")\n",
    "\n",
    "    # return\n",
    "    if action_mask_tiles[3] == 1:\n",
    "        for i, param in zip(action_mask_tiles[14:18], location_parameters):\n",
    "            if i == 1:\n",
    "                print(f\"({unit}, return, {param})\")\n",
    "                resulting_strings.append(f\"({unit}, return, {param})\")\n",
    "\n",
    "    # produce\n",
    "    if action_mask_tiles[4] == 1:\n",
    "        for i, param in zip(action_mask_tiles[18:22], location_parameters):\n",
    "            if i == 1:\n",
    "                for j, param2 in zip(action_mask_tiles[22:29], unit_types):\n",
    "                    if j == 1:\n",
    "                        print(f\"({unit}, produce, {param}, {param2})\")\n",
    "                        resulting_strings.append(f\"({unit}, produce, {param}, {param2})\")"
   ]
  },
  {
   "cell_type": "code",
   "execution_count": 8,
   "metadata": {},
   "outputs": [
    {
     "name": "stdout",
     "output_type": "stream",
     "text": [
      "['A2', 'move', 'east']\n",
      "['A2', 'produce', 'south', 'barracks']\n"
     ]
    },
    {
     "data": {
      "text/plain": [
       "array([[[0., 0., 0., 0., 0., 0., 0.],\n",
       "        [0., 0., 0., 0., 0., 0., 0.],\n",
       "        [4., 2., 2., 2., 2., 2., 0.],\n",
       "        [0., 0., 0., 0., 0., 0., 0.]],\n",
       "\n",
       "       [[0., 0., 0., 0., 0., 0., 0.],\n",
       "        [0., 0., 0., 0., 0., 0., 0.],\n",
       "        [0., 0., 0., 0., 0., 0., 0.],\n",
       "        [0., 0., 0., 0., 0., 0., 0.]],\n",
       "\n",
       "       [[0., 0., 0., 0., 0., 0., 0.],\n",
       "        [0., 0., 0., 0., 0., 0., 0.],\n",
       "        [0., 0., 0., 0., 0., 0., 0.],\n",
       "        [0., 0., 0., 0., 0., 0., 0.]],\n",
       "\n",
       "       [[0., 0., 0., 0., 0., 0., 0.],\n",
       "        [0., 0., 0., 0., 0., 0., 0.],\n",
       "        [0., 0., 0., 0., 0., 0., 0.],\n",
       "        [0., 0., 0., 0., 0., 0., 0.]]])"
      ]
     },
     "execution_count": 8,
     "metadata": {},
     "output_type": "execute_result"
    }
   ],
   "source": [
    "def string_to_action(response):\n",
    "    actions = np.zeros((map_size, map_size, 7))\n",
    "\n",
    "    for key, value in response.items():\n",
    "        s_action = value.strip(\"()\").split(\", \")\n",
    "        print(s_action)\n",
    "\n",
    "        unit = s_action[0]\n",
    "        actiontype_choice = s_action[1]\n",
    "        actiontype_param = action_types.index(actiontype_choice)\n",
    "\n",
    "        location_choice = s_action[2]\n",
    "        location_param = location_parameters.index(location_choice)\n",
    "\n",
    "        if len(s_action) > 3:\n",
    "            unit_type_choice = s_action[3] \n",
    "            unit_types_param = unit_types.index(unit_type_choice)\n",
    "        else:\n",
    "            unit_types_param = 0\n",
    "\n",
    "        row = rows_letters.index(unit[0])\n",
    "        col = int(unit[1])\n",
    "\n",
    "        action = [\n",
    "            actiontype_param,\n",
    "            location_param,\n",
    "            location_param,\n",
    "            location_param,\n",
    "            location_param,\n",
    "            unit_types_param,\n",
    "            0  # attack_target parameter TBD\n",
    "        ]\n",
    "\n",
    "        actions[row][col] = action\n",
    "        \n",
    "\n",
    "    return actions\n",
    "\n",
    "response = {\n",
    "0: \"(A2, move, east)\",\n",
    "1: \"(A2, produce, south, barracks)\"\n",
    "}\n",
    "act = string_to_action(response)\n",
    "act"
   ]
  },
  {
   "cell_type": "code",
   "execution_count": 9,
   "metadata": {},
   "outputs": [
    {
     "name": "stdout",
     "output_type": "stream",
     "text": [
      "(A1, NOOP)\n",
      "(A1, move, east)\n",
      "(A1, harvest, west)\n",
      "(A1, produce, east, barracks)\n",
      "(B1, NOOP)\n",
      "(B1, produce, east, worker)\n",
      "(B1, produce, south, worker)\n",
      "(B1, produce, west, worker)\n"
     ]
    }
   ],
   "source": [
    "for row in range(map_size):\n",
    "    for col in range(map_size):\n",
    "        action_mask_tile = action_mask_tiles[row][col]\n",
    "        action_mask_to_string(action_mask_tile, row, col)"
   ]
  },
  {
   "cell_type": "markdown",
   "metadata": {},
   "source": []
  },
  {
   "cell_type": "code",
   "execution_count": null,
   "metadata": {},
   "outputs": [],
   "source": []
  },
  {
   "cell_type": "code",
   "execution_count": 10,
   "metadata": {},
   "outputs": [
    {
     "data": {
      "text/plain": [
       "[[1, 0, 0, 0, 0, 0],\n",
       " [0, 0, 0, 0],\n",
       " [0, 0, 0, 0],\n",
       " [0, 0, 0, 0],\n",
       " [0, 0, 0, 0],\n",
       " [0, 0, 0, 0, 0, 0, 0],\n",
       " array([0., 0., 0., ..., 0., 0., 0.])]"
      ]
     },
     "execution_count": 10,
     "metadata": {},
     "output_type": "execute_result"
    }
   ],
   "source": [
    "[\n",
    "    [1, 0, 0, 0, 0, 0],  # action type: {NOOP, move, harvest, return, produce, attack}\n",
    "    [0, 0, 0, 0],  # move parameter: {north, east, south, west}\n",
    "    [0, 0, 0, 0],  # harvest parameter: {north, east, south, west}\n",
    "    [0, 0, 0, 0],  # return parameter: {north, east, south, west}\n",
    "    [0, 0, 0, 0],  # produce_direction parameter: {north, east, south, west}\n",
    "    [0, 0, 0, 0, 0, 0, 0],  # produce_unit_type parameter: {resource, base, barracks, worker, light, heavy, ranged}\n",
    "    np.zeros(sum(envs.action_space.nvec[1:]))  # attack_target parameter: relative position of the unit that will be attacked\n",
    "]"
   ]
  },
  {
   "cell_type": "code",
   "execution_count": 11,
   "metadata": {},
   "outputs": [],
   "source": [
    "ac_move_east = np.array([\n",
    "    1,  # action type: {NOOP, move, harvest, return, produce, attack}\n",
    "    1,  # move parameter: {north, east, south, west}\n",
    "    0,  # harvest parameter: {north, east, south, west}\n",
    "    0,  # return parameter: {north, east, south, west}\n",
    "    0,  # produce_direction parameter: {north, east, south, west}\n",
    "    0,  # produce_unit_type parameter: {resource, base, barracks, worker, light, heavy, ranged}\n",
    "    0  # attack_target parameter: relative position of the unit that will be attacked\n",
    "])\n",
    "ac_produce_worker_south = np.array([4, 0, 0, 0, 2, 3, 0])\n",
    "ac_produce_worker_west = np.array([4, 0, 0, 0, 3, 3, 0])"
   ]
  },
  {
   "cell_type": "code",
   "execution_count": 12,
   "metadata": {},
   "outputs": [
    {
     "data": {
      "text/plain": [
       "(4, 4, 7)"
      ]
     },
     "execution_count": 12,
     "metadata": {},
     "output_type": "execute_result"
    }
   ],
   "source": [
    "action = np.zeros((map_size, map_size, 7))\n",
    "action.shape"
   ]
  },
  {
   "cell_type": "code",
   "execution_count": 13,
   "metadata": {},
   "outputs": [],
   "source": [
    "action[0][1] = ac_move_east\n",
    "action[1][1] = ac_produce_worker_west"
   ]
  },
  {
   "cell_type": "code",
   "execution_count": 14,
   "metadata": {},
   "outputs": [
    {
     "data": {
      "text/plain": [
       "array([1., 1., 0., 0., 0., 0., 0.])"
      ]
     },
     "execution_count": 14,
     "metadata": {},
     "output_type": "execute_result"
    }
   ],
   "source": [
    "action[0][1]"
   ]
  },
  {
   "cell_type": "code",
   "execution_count": 15,
   "metadata": {},
   "outputs": [
    {
     "data": {
      "text/plain": [
       "array([0., 0., 0., 0., 0., 0., 0.])"
      ]
     },
     "execution_count": 15,
     "metadata": {},
     "output_type": "execute_result"
    }
   ],
   "source": [
    "act[0][1]"
   ]
  },
  {
   "cell_type": "code",
   "execution_count": 16,
   "metadata": {},
   "outputs": [
    {
     "data": {
      "text/plain": [
       "<matplotlib.image.AxesImage at 0x16be45220>"
      ]
     },
     "execution_count": 16,
     "metadata": {},
     "output_type": "execute_result"
    },
    {
     "data": {
      "image/png": "[encoded data removed]",
      "text/plain": [
       "<Figure size 640x480 with 1 Axes>"
      ]
     },
     "metadata": {},
     "output_type": "display_data"
    }
   ],
   "source": [
    "_ = envs.reset()\n",
    "img = envs.render(mode='rgb_array')\n",
    "plt.imshow(img)"
   ]
  },
  {
   "cell_type": "code",
   "execution_count": 17,
   "metadata": {},
   "outputs": [
    {
     "data": {
      "image/png": "[encoded data removed]",
      "text/plain": [
       "<Figure size 640x480 with 1 Axes>"
      ]
     },
     "metadata": {},
     "output_type": "display_data"
    }
   ],
   "source": [
    "for i in range(10):\n",
    "    response = envs.step(\n",
    "        act\n",
    "    )\n",
    "\n",
    "    img = envs.render(mode='rgb_array')\n",
    "    plt.imshow(img)\n",
    "\n",
    "    if response[2][0]:\n",
    "        print(\"done\")\n",
    "        break"
   ]
  },
  {
   "cell_type": "code",
   "execution_count": 18,
   "metadata": {},
   "outputs": [],
   "source": [
    "observation = response[0]"
   ]
  },
  {
   "cell_type": "code",
   "execution_count": 19,
   "metadata": {},
   "outputs": [
    {
     "data": {
      "text/plain": [
       "(4, 4, 27)"
      ]
     },
     "execution_count": 19,
     "metadata": {},
     "output_type": "execute_result"
    }
   ],
   "source": [
    "observation[0].shape"
   ]
  },
  {
   "cell_type": "code",
   "execution_count": null,
   "metadata": {},
   "outputs": [],
   "source": []
  },
  {
   "cell_type": "code",
   "execution_count": 20,
   "metadata": {},
   "outputs": [],
   "source": [
    "features = observation[0][0][0]"
   ]
  },
  {
   "cell_type": "code",
   "execution_count": 21,
   "metadata": {},
   "outputs": [],
   "source": [
    "owners = [\"NEUTRAL\", \"PLAYER\", \"ENEMY\"]\n",
    "obs_unit_types = [\"NO_UNIT\"] + unit_types\n",
    "\n",
    "\n",
    "def extract_observation_features(features):\n",
    "    feat_hit_points = features[0:5]\n",
    "    hit_points = np.argmax(feat_hit_points)\n",
    "\n",
    "    feat_resources = features[5:10]\n",
    "    resources = np.argmax(feat_resources)\n",
    "    resources = None if resources == 0 else f\"resources: {resources}\"\n",
    "\n",
    "    feat_owner = features[10:13]\n",
    "    owner = np.argmax(feat_owner)\n",
    "    str_owner = owners[owner]\n",
    "\n",
    "    feat_unit_types = features[13:21]\n",
    "    unit_type = np.argmax(feat_unit_types)\n",
    "    str_unit_type = obs_unit_types[unit_type]\n",
    "\n",
    "    feat_action_type = features[21:27]\n",
    "    action_type = np.argmax(feat_action_type)\n",
    "    str_action_type = action_types[action_type]\n",
    "\n",
    "    obs_str = (\n",
    "        str_unit_type, \n",
    "        f\"hp:{hit_points}\", \n",
    "        resources, \n",
    "        str_owner, \n",
    "        str_action_type\n",
    "    )\n",
    "\n",
    "    return obs_str"
   ]
  },
  {
   "cell_type": "code",
   "execution_count": 22,
   "metadata": {},
   "outputs": [
    {
     "data": {
      "text/plain": [
       "(4, 4, 27)"
      ]
     },
     "execution_count": 22,
     "metadata": {},
     "output_type": "execute_result"
    }
   ],
   "source": [
    "observation[0].shape"
   ]
  },
  {
   "cell_type": "code",
   "execution_count": 23,
   "metadata": {},
   "outputs": [
    {
     "data": {
      "text/plain": [
       "array([[['A0'],\n",
       "        ['B0'],\n",
       "        ['C0'],\n",
       "        ['D0']],\n",
       "\n",
       "       [['A1'],\n",
       "        ['B1'],\n",
       "        ['C1'],\n",
       "        ['D1']],\n",
       "\n",
       "       [['A2'],\n",
       "        ['B2'],\n",
       "        ['C2'],\n",
       "        ['D2']],\n",
       "\n",
       "       [['A3'],\n",
       "        ['B3'],\n",
       "        ['C3'],\n",
       "        ['D3']]], dtype='<U2')"
      ]
     },
     "execution_count": 23,
     "metadata": {},
     "output_type": "execute_result"
    }
   ],
   "source": [
    "\n",
    "positions = np.array([\n",
    "    [\n",
    "        [f\"{rows_letters[j]}{i}\"] for j in range(map_size)\n",
    "    ] for i in range(map_size)\n",
    "])\n",
    "positions"
   ]
  },
  {
   "cell_type": "code",
   "execution_count": 24,
   "metadata": {},
   "outputs": [],
   "source": [
    "decoded_observation = np.apply_along_axis(extract_observation_features, 2, observation[0])\n",
    "decoded_observation = np.concatenate(\n",
    "    (\n",
    "        positions,\n",
    "        decoded_observation,\n",
    "    ),\n",
    "    axis=-1\n",
    ")"
   ]
  },
  {
   "cell_type": "code",
   "execution_count": 25,
   "metadata": {},
   "outputs": [
    {
     "data": {
      "text/plain": [
       "array([[['A0', 'resource', 'hp:1', 'resources: 4', 'NEUTRAL', 'NOOP'],\n",
       "        ['B0', 'worker', 'hp:1', 'None', 'PLAYER', 'NOOP'],\n",
       "        ['C0', 'NO_UNIT', 'hp:0', 'None', 'NEUTRAL', 'NOOP'],\n",
       "        ['D0', 'NO_UNIT', 'hp:0', 'None', 'NEUTRAL', 'NOOP']],\n",
       "\n",
       "       [['A1', 'NO_UNIT', 'hp:0', 'None', 'NEUTRAL', 'NOOP'],\n",
       "        ['B1', 'base', 'hp:4', 'None', 'PLAYER', 'NOOP'],\n",
       "        ['C1', 'NO_UNIT', 'hp:0', 'None', 'NEUTRAL', 'NOOP'],\n",
       "        ['D1', 'NO_UNIT', 'hp:0', 'None', 'NEUTRAL', 'NOOP']],\n",
       "\n",
       "       [['A2', 'NO_UNIT', 'hp:0', 'None', 'NEUTRAL', 'NOOP'],\n",
       "        ['B2', 'NO_UNIT', 'hp:0', 'None', 'NEUTRAL', 'NOOP'],\n",
       "        ['C2', 'NO_UNIT', 'hp:0', 'None', 'NEUTRAL', 'NOOP'],\n",
       "        ['D2', 'NO_UNIT', 'hp:0', 'None', 'NEUTRAL', 'NOOP']],\n",
       "\n",
       "       [['A3', 'NO_UNIT', 'hp:0', 'None', 'NEUTRAL', 'NOOP'],\n",
       "        ['B3', 'NO_UNIT', 'hp:0', 'None', 'NEUTRAL', 'NOOP'],\n",
       "        ['C3', 'NO_UNIT', 'hp:0', 'None', 'NEUTRAL', 'NOOP'],\n",
       "        ['D3', 'base', 'hp:4', 'None', 'ENEMY', 'produce']]], dtype='<U12')"
      ]
     },
     "execution_count": 25,
     "metadata": {},
     "output_type": "execute_result"
    }
   ],
   "source": [
    "decoded_observation\n",
    "\n"
   ]
  },
  {
   "cell_type": "code",
   "execution_count": 26,
   "metadata": {},
   "outputs": [],
   "source": [
    "# filter out the NO_UNIT observations\n",
    "obs_with_units = decoded_observation[decoded_observation[:, :, 1] != 'NO_UNIT']"
   ]
  },
  {
   "cell_type": "code",
   "execution_count": 27,
   "metadata": {},
   "outputs": [
    {
     "data": {
      "text/plain": [
       "array([['A0', 'resource', 'hp:1', 'resources: 4', 'NEUTRAL', 'NOOP'],\n",
       "       ['B0', 'worker', 'hp:1', 'None', 'PLAYER', 'NOOP'],\n",
       "       ['B1', 'base', 'hp:4', 'None', 'PLAYER', 'NOOP'],\n",
       "       ['D3', 'base', 'hp:4', 'None', 'ENEMY', 'produce']], dtype='<U12')"
      ]
     },
     "execution_count": 27,
     "metadata": {},
     "output_type": "execute_result"
    }
   ],
   "source": [
    "obs_with_units"
   ]
  },
  {
   "cell_type": "code",
   "execution_count": 28,
   "metadata": {},
   "outputs": [],
   "source": [
    "prompt_str = np.apply_along_axis(lambda x: \"(\"+\", \".join(x)+\")\", 1, obs_with_units)\n",
    "prompt_str = \"\\n\".join(prompt_str)"
   ]
  },
  {
   "cell_type": "code",
   "execution_count": 29,
   "metadata": {},
   "outputs": [
    {
     "name": "stdout",
     "output_type": "stream",
     "text": [
      "(A0, resource, hp:1, resources: 4, NEUTRAL, NOOP)\n",
      "(B0, worker, hp:1, None, PLAYER, NOOP)\n",
      "(B1, base, hp:4, None, PLAYER, NOOP)\n",
      "(D3, base, hp:4, None, ENEMY, produce)\n"
     ]
    }
   ],
   "source": [
    "print(prompt_str)"
   ]
  },
  {
   "cell_type": "code",
   "execution_count": null,
   "metadata": {},
   "outputs": [],
   "source": []
  },
  {
   "cell_type": "markdown",
   "metadata": {},
   "source": [
    "# LLAMA"
   ]
  },
  {
   "cell_type": "code",
   "execution_count": 37,
   "metadata": {},
   "outputs": [
    {
     "name": "stdout",
     "output_type": "stream",
     "text": [
      " Based on the current observation and the valid actions, here's our step-by-step analysis and the next set of micro immediate actions:\n",
      "\n",
      "Since there is an enemy base producing new units, we need to prioritize scouting and defending our own base. We also want to expand as soon as possible by building a barracks.\n",
      "\n",
      "1. Our worker at B0 should move towards the closest mineral patch (A1 or D1) since it's currently idle. Let's assume A1 has minerals for simplicity.\n",
      "2. The worker at A1 should return to our base B1 with the harvested minerals as soon as it finishes harvesting.\n",
      "3. Our idle base B1 should produce a new barracks in an adjacent tile (let's say east, so the action would be \"produce, east, barracks\").\n",
      "\n",
      "Response format:\n",
      "{\n",
      "0: \"(B0, move, A1)\",\n",
      "1: \"(A1, NOOP)\",\n",
      "2: \"(B1, produce, east, barracks)\",\n",
      "}\n"
     ]
    }
   ],
   "source": [
    "import ollama\n",
    "response = ollama.chat(model='mistral', messages=[\n",
    "  {\n",
    "    'role': 'user',\n",
    "    'content': '''\n",
    "You are a professional MicroRTS player. You know all the dependencies between units, buildings, attack system and the rules of the game. The primary goal is to defeat the opponent by either destroying their bases or eliminating all their units.\n",
    "\n",
    "You need to specify detailed execution plans\n",
    "\n",
    "## RULES\n",
    "\n",
    "Gridworld Board Description:\n",
    "\n",
    "The game is played on a grid-based map, with a size of 4x4 grid.\n",
    "Each cell represents a specific location. \n",
    "Rows are labeled A, B, C, and D, while columns are numbered 0, 1, 2, and 3.\n",
    "Example: A0 represents the top-left cell, and D3 represents the bottom-right cell.\n",
    "\n",
    "Game Elements:\n",
    "\n",
    "(A) Resources:\n",
    "- Mineral Resources: Used to create new units and buildings, can be harvested by workers. Once harvested, the worker needs to bring the mineral to a base.\n",
    "\n",
    "(B) Buildings:\n",
    "- Base: Accumulates resources and trains workers. Bases are buildings.\n",
    "- Barrack: Creates new attack units. Barracks are buildings.\n",
    "\n",
    "(C) Units:\n",
    "- Worker: Can harvest minerals and construct buildings. Is able to move one tile at a timestep, can only harvest adjacent tiles, can only construct buildings in adjacent tiles.\n",
    "- Light: Attack unit with low power but fast melee capabilities. Is able to move one tile at a timestep, can attack enemies in adjacent tiles.\n",
    "- Heavy: Attack unit with high power but slow melee capabilities. Is able to move one tile at a timestep, can attack enemies in adjacent tiles.\n",
    "- Ranged: Attack unit with long-range capabilities. Is able to move one tile at a timestep, can attack enemies that are within a 3 tile radius of the current position.\n",
    "\n",
    "## OBSERVATION\n",
    "\n",
    "\n",
    "Obervation:\n",
    "(position, unit_type, hp, resources, owner, action_type)\n",
    "{\n",
    "(A0, resource, hp:1, resources: 4, NEUTRAL, NOOP)\n",
    "(B0, worker, hp:1, None, PLAYER, NOOP)\n",
    "(B1, base, hp:4, None, PLAYER, NOOP)\n",
    "(D3, base, hp:4, None, ENEMY, produce)\n",
    "}\n",
    "\n",
    "Set of valid actions:\n",
    "(position, action_type, direction, production_type)\n",
    "{\n",
    "(A2, NOOP)\n",
    "(A2, move, east)\n",
    "(A2, move, south)\n",
    "(A2, move, west)\n",
    "(A2, produce, east, barracks)\n",
    "(A2, produce, south, barracks)\n",
    "(A2, produce, west, barracks)\n",
    "}\n",
    "\n",
    "\n",
    "## ACTION\n",
    "\n",
    "Based on the current observation of the game state, Units and Buildings from both sides, a brief step-by-step analysis can be done from our strategy.\n",
    "You can only issue micro actions to the units, meaning that before a certain worker is able to harverst resources at A1, it needs first to be in an adjacent tile, for example A2 or B1. \n",
    "Also, you can only issue actions for the current timestep.\n",
    "Each unit can execute only one action, which means that in the response dictionary, you can only include one action per unit.\n",
    "You don't need to issue actions to all units, but you can. \n",
    "You must respect the set of valid actions.\n",
    "Use your best judgement and strategy to select the actions. Provide the next set of micro immediate actions. \n",
    "\n",
    "You should only respond in the format as described below:\n",
    "\n",
    "RESPONSE FORMAT:\n",
    "(tile, action, direction, produce_unit_type::optional)\n",
    "\n",
    "Where:\n",
    "\n",
    "tile: rows A to D, columns 0 to 3.\n",
    "action: {move, harvest, return, produce, attack}.\n",
    "direction: {north, east, south, west}.\n",
    "produce_unit_type: {resource, base, barracks, worker, light, heavy, ranged}. Optional argument, only necessary for action==produce.\n",
    "\n",
    "---example output:\n",
    "{\n",
    "0: \"(A1, move, east)\",\n",
    "1: \"(B1, produce, east, worker)\",\n",
    "}\n",
    "---\n",
    "Your answer should be only the response dictionary, as shown in the example output.\n",
    "    ''',\n",
    "  },\n",
    "])\n",
    "print(response['message']['content'])"
   ]
  },
  {
   "cell_type": "code",
   "execution_count": 32,
   "metadata": {},
   "outputs": [],
   "source": [
    "from ollama import Client\n",
    "client = Client(host='http://localhost:11434')\n",
    "response = client.chat(model='mistral', messages=[\n",
    "  {\n",
    "    'role': 'user',\n",
    "    'content': 'Why is the sky blue?',\n",
    "  },\n",
    "])"
   ]
  },
  {
   "cell_type": "code",
   "execution_count": 35,
   "metadata": {},
   "outputs": [
    {
     "data": {
      "text/plain": [
       "{'model': 'mistral',\n",
       " 'created_at': '2024-03-03T03:24:31.083014Z',\n",
       " 'message': {'role': 'assistant',\n",
       "  'content': ' Based on the current game state observation and the valid actions set, here\\'s a suggested step-by-step strategy for our side:\\n\\n1. Ensure our base (B1) is safe by positioning at least one worker or unit nearby to protect it from enemy attacks. In this case, since the closest enemy is already at position D3 and it has a base producing units, there\\'s no immediate threat to our base for now. So, we don\\'t need to take any defensive action in this timestep.\\n\\n2. Our initial focus should be on resource gathering and building infrastructure. Since our worker (B0) is already at position B0 with hp:1 and no resources assigned, it needs to move towards a mineral patch (Ax or Ax-1) for resource gathering. Let\\'s assume there\\'s a mineral patch at A2. So, we issue the following micro action for our worker unit:\\n\\n(1): \"(B0, move, north)\",\\n\\n3. After moving to the mineral patch, our worker needs to harvest the minerals and bring them back to our base (B1). Since our base is adjacent to position B0, we can issue the following micro action for our worker unit:\\n\\n(2): \"(B0, harvest)\",\\n\\n4. With the worker busy with resource gathering, we need to ensure that our base is continuously producing units. We currently don\\'t have any barracks (production building) to produce attack units. Let\\'s build a new barracks near our base. Since there\\'s an empty space at position B2, we can issue the following micro action for our base unit:\\n\\n(3): \"(B1, produce, south, barracks)\",\\n\\n5. We want to keep our base safe and also expand our territory by securing adjacent mineral patches and constructing additional buildings as needed. Therefore, it would be wise to move our initial worker (B0) towards an unoccupied mineral patch or expand our base with another building (base or barracks). For the sake of this example, let\\'s assume there\\'s a mineral patch at A3 that is currently unoccupied. In that case, we can issue the following micro action for our worker unit:\\n\\n(4): \"(B0, move, east)\",\\n\\nOur next steps should be to ensure the safety and expansion of our base while also producing attack units from our newly constructed barracks. Depending on the enemy\\'s actions, we might need to defend against their attacks or expand our territory further.'},\n",
       " 'done': True,\n",
       " 'total_duration': 22117662917,\n",
       " 'load_duration': 2301792,\n",
       " 'prompt_eval_count': 972,\n",
       " 'prompt_eval_duration': 4031213000,\n",
       " 'eval_count': 539,\n",
       " 'eval_duration': 18075974000}"
      ]
     },
     "execution_count": 35,
     "metadata": {},
     "output_type": "execute_result"
    }
   ],
   "source": [
    "client.chat(model='mistral', messages=[\n",
    "  {\n",
    "    'role': 'user',\n",
    "    'content': '''\n",
    "You are a professional MicroRTS player. You know all the dependencies between units, buildings, attack system and the rules of the game. The primary goal is to defeat the opponent by either destroying their bases or eliminating all their units.\n",
    "\n",
    "You need to specify detailed execution plans\n",
    "\n",
    "## RULES\n",
    "\n",
    "Gridworld Board Description:\n",
    "\n",
    "The game is played on a grid-based map, with a size of 4x4 grid.\n",
    "Each cell represents a specific location. \n",
    "Rows are labeled A, B, C, and D, while columns are numbered 0, 1, 2, and 3.\n",
    "Example: A0 represents the top-left cell, and D3 represents the bottom-right cell.\n",
    "\n",
    "Game Elements:\n",
    "\n",
    "(A) Resources:\n",
    "- Mineral Resources: Used to create new units and buildings, can be harvested by workers. Once harvested, the worker needs to bring the mineral to a base.\n",
    "\n",
    "(B) Buildings:\n",
    "- Base: Accumulates resources and trains workers. Bases are buildings.\n",
    "- Barrack: Creates new attack units. Barracks are buildings.\n",
    "\n",
    "(C) Units:\n",
    "- Worker: Can harvest minerals and construct buildings. Is able to move one tile at a timestep, can only harvest adjacent tiles, can only construct buildings in adjacent tiles.\n",
    "- Light: Attack unit with low power but fast melee capabilities. Is able to move one tile at a timestep, can attack enemies in adjacent tiles.\n",
    "- Heavy: Attack unit with high power but slow melee capabilities. Is able to move one tile at a timestep, can attack enemies in adjacent tiles.\n",
    "- Ranged: Attack unit with long-range capabilities. Is able to move one tile at a timestep, can attack enemies that are within a 3 tile radius of the current position.\n",
    "\n",
    "## OBSERVATION\n",
    "\n",
    "\n",
    "Obervation:\n",
    "(position, unit_type, hp, resources, owner, action_type)\n",
    "{\n",
    "(A0, resource, hp:1, resources: 4, NEUTRAL, NOOP)\n",
    "(B0, worker, hp:1, None, PLAYER, NOOP)\n",
    "(B1, base, hp:4, None, PLAYER, NOOP)\n",
    "(D3, base, hp:4, None, ENEMY, produce)\n",
    "}\n",
    "\n",
    "Set of valid actions:\n",
    "(position, action_type, direction, production_type)\n",
    "{\n",
    "(A2, NOOP)\n",
    "(A2, move, east)\n",
    "(A2, move, south)\n",
    "(A2, move, west)\n",
    "(A2, produce, east, barracks)\n",
    "(A2, produce, south, barracks)\n",
    "(A2, produce, west, barracks)\n",
    "}\n",
    "\n",
    "\n",
    "## ACTION\n",
    "\n",
    "Based on the current observation of the game state, Units and Buildings from both sides, a brief step-by-step analysis can be done from our strategy.\n",
    "You can only issue micro actions to the units, meaning that before a certain worker is able to harverst resources at A1, it needs first to be in an adjacent tile, for example A2 or B1. \n",
    "Also, you can only issue actions for the current timestep.\n",
    "Each unit can execute only one action, which means that in the response dictionary, you can only include one action per unit.\n",
    "You don't need to issue actions to all units, but you can. \n",
    "You must respect the set of valid actions.\n",
    "Use your best judgement and strategy to select the actions. Provide the next set of micro immediate actions. \n",
    "\n",
    "You should only respond in the format as described below:\n",
    "\n",
    "RESPONSE FORMAT:\n",
    "(tile, action, direction, produce_unit_type::optional)\n",
    "\n",
    "Where:\n",
    "\n",
    "tile: rows A to D, columns 0 to 3.\n",
    "action: {move, harvest, return, produce, attack}.\n",
    "direction: {north, east, south, west}.\n",
    "produce_unit_type: {resource, base, barracks, worker, light, heavy, ranged}. Optional argument, only necessary for action==produce.\n",
    "\n",
    "---example output:\n",
    "{\n",
    "0: \"(A1, move, east)\",\n",
    "1: \"(B1, produce, east, worker)\",\n",
    "}\n",
    "---\n",
    "    ''',\n",
    "  },\n",
    "])"
   ]
  },
  {
   "cell_type": "code",
   "execution_count": null,
   "metadata": {},
   "outputs": [],
   "source": []
  }
 ],
 "metadata": {
  "kernelspec": {
   "display_name": "spinningup",
   "language": "python",
   "name": "python3"
  },
  "language_info": {
   "codemirror_mode": {
    "name": "ipython",
    "version": 3
   },
   "file_extension": ".py",
   "mimetype": "text/x-python",
   "name": "python",
   "nbconvert_exporter": "python",
   "pygments_lexer": "ipython3",
   "version": "3.9.0"
  }
 },
 "nbformat": 4,
 "nbformat_minor": 2
}
