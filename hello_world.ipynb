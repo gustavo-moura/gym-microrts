{
 "cells": [
  {
   "cell_type": "code",
   "execution_count": 1,
   "metadata": {},
   "outputs": [],
   "source": [
    "import numpy as np\n",
    "import matplotlib.pyplot as plt\n",
    "\n",
    "from gym_microrts import microrts_ai\n",
    "from gym_microrts.envs.vec_env import MicroRTSGridModeVecEnv"
   ]
  },
  {
   "cell_type": "code",
   "execution_count": 33,
   "metadata": {},
   "outputs": [],
   "source": [
    "map_size = 4\n",
    "envs = MicroRTSGridModeVecEnv(\n",
    "    num_selfplay_envs=0,\n",
    "    num_bot_envs=1,\n",
    "    max_steps=2000,\n",
    "    render_theme=2,\n",
    "    ai2s=[microrts_ai.coacAI for _ in range(1)],\n",
    "    #ai2s=[microrts_ai.vulcanMCTSAI for _ in range(1)],\n",
    "    map_paths=[\"maps/4x4/base4x4.xml\"],\n",
    "    reward_weight=np.array([10.0, 1.0, 1.0, 0.2, 1.0, 4.0]),\n",
    ")\n",
    "_ = envs.reset()"
   ]
  },
  {
   "cell_type": "markdown",
   "metadata": {},
   "source": [
    "#### For i in range 1000"
   ]
  },
  {
   "cell_type": "code",
   "execution_count": 12,
   "metadata": {},
   "outputs": [
    {
     "data": {
      "text/plain": [
       "(16, 78)"
      ]
     },
     "execution_count": 12,
     "metadata": {},
     "output_type": "execute_result"
    }
   ],
   "source": [
    "action_mask = envs.get_action_mask()\n",
    "action_mask = action_mask.reshape(-1, action_mask.shape[-1])\n",
    "action_mask.shape"
   ]
  },
  {
   "cell_type": "code",
   "execution_count": 13,
   "metadata": {},
   "outputs": [
    {
     "data": {
      "text/plain": [
       "(4, 4, 78)"
      ]
     },
     "execution_count": 13,
     "metadata": {},
     "output_type": "execute_result"
    }
   ],
   "source": [
    "action_mask_tiles = action_mask.reshape(map_size, map_size, -1)\n",
    "action_mask_tiles.shape"
   ]
  },
  {
   "cell_type": "code",
   "execution_count": 14,
   "metadata": {},
   "outputs": [
    {
     "data": {
      "image/png": "[encoded data removed]",
      "text/plain": [
       "<Figure size 500x500 with 1 Axes>"
      ]
     },
     "metadata": {},
     "output_type": "display_data"
    }
   ],
   "source": [
    "plt.figure(figsize=(5, 5))\n",
    "plt.imshow(action_mask_tiles.sum(-1))\n",
    "\n",
    "plt.gca().set_xticks(np.arange(-.5, map_size, 1), minor=True)\n",
    "plt.gca().set_yticks(np.arange(-.5, map_size, 1), minor=True)\n",
    "plt.grid(which=\"minor\", axis=\"both\", linestyle=\"-\", color=\"k\", linewidth=1)\n",
    "\n",
    "plt.xticks(np.arange(0, map_size, 1))\n",
    "plt.yticks(np.arange(0, map_size, 1))\n",
    "plt.xlabel(\"x\")\n",
    "plt.ylabel(\"y\")\n",
    "\n",
    "plt.title(\"Action Mask\")\n",
    "plt.show()"
   ]
  },
  {
   "cell_type": "code",
   "execution_count": 15,
   "metadata": {},
   "outputs": [
    {
     "name": "stdout",
     "output_type": "stream",
     "text": [
      "Action Type:\n",
      "   0       0       0       0       0       0    \n",
      " NOOP    move   harvest return  produce attack  \n",
      "\n",
      "Move Parameter:\n",
      "   0       0       0       0    \n",
      " north   east    south   west   \n",
      "\n",
      "Harvest Parameter:\n",
      "   0       0       0       0    \n",
      " north   east    south   west   \n",
      "\n",
      "Return Parameter:\n",
      "   0       0       0       0    \n",
      " north   east    south   west   \n",
      "\n",
      "Produce Direction Parameter:\n",
      "   0       0       0       0    \n",
      " north   east    south   west   \n",
      "\n",
      "Produce Unit Type Parameter:\n",
      "   0       0       0       0       0       0       0    \n",
      "resource  base   barracks worker   light   heavy  ranged  \n",
      "\n",
      "Attack Target Parameter:\n",
      "[[0 0 0 0 0 0 0]\n",
      " [0 0 0 0 0 0 0]\n",
      " [0 0 0 0 0 0 0]\n",
      " [0 0 0 0 0 0 0]\n",
      " [0 0 0 0 0 0 0]\n",
      " [0 0 0 0 0 0 0]\n",
      " [0 0 0 0 0 0 0]]\n",
      "\n"
     ]
    }
   ],
   "source": [
    "def print_action_space(action_mask_tile):\n",
    "    # (action_mask[0:6]),  # action type: {NOOP, move, harvest, return, produce, attack}\n",
    "    # (action_mask[6:10]),  # move parameter: {north, east, south, west}\n",
    "    # (action_mask[10:14]),  # harvest parameter: {north, east, south, west}\n",
    "    # (action_mask[14:18]),  # return parameter: {north, east, south, west}\n",
    "    # (action_mask[18:22]),  # produce_direction parameter: {north, east, south, west}\n",
    "    # (action_mask[22:29]),  # produce_unit_type parameter: {resource, base, barracks, worker, light, heavy, ranged}\n",
    "    # (action_mask[29 : sum(envs.action_space.nvec[1:])]),  # attack_target parameter: relative position of the unit that will be attacked\n",
    "\n",
    "    # visualization of the action space for a given tile, translating where 1 means that the corresponding action is available\n",
    "    \n",
    "    action_types = [\"NOOP\", \"move\", \"harvest\", \"return\", \"produce\", \"attack\"]\n",
    "\n",
    "    print(\"Action Type:\")\n",
    "    mask = action_mask_tile[0:6]\n",
    "    print_masked(mask, mask)\n",
    "    print_masked(mask, action_types)\n",
    "    print()\n",
    "\n",
    "    location_parameters = [\"north\", \"east\", \"south\", \"west\"]\n",
    "\n",
    "    print(\"Move Parameter:\")\n",
    "    mask = action_mask_tile[6:10]\n",
    "    print_masked(mask, mask)\n",
    "    print_masked(mask, location_parameters)\n",
    "    print()\n",
    "\n",
    "    print(\"Harvest Parameter:\")\n",
    "    mask = action_mask_tile[10:14]\n",
    "    print_masked(mask, mask)\n",
    "    print_masked(mask, location_parameters)\n",
    "    print()\n",
    "\n",
    "    print(\"Return Parameter:\")\n",
    "    mask = action_mask_tile[14:18]\n",
    "    print_masked(mask, mask)\n",
    "    print_masked(mask, location_parameters)\n",
    "    print()\n",
    "\n",
    "    print(\"Produce Direction Parameter:\")\n",
    "    mask = action_mask_tile[18:22]\n",
    "    print_masked(mask, mask)\n",
    "    print_masked(mask, location_parameters)\n",
    "    print()\n",
    "\n",
    "    unit_types = [\"resource\", \"base\", \"barracks\", \"worker\", \"light\", \"heavy\", \"ranged\"]\n",
    "\n",
    "    print(\"Produce Unit Type Parameter:\")\n",
    "    mask = action_mask_tile[22:29]\n",
    "    print_masked(mask, mask)\n",
    "    print_masked(mask, unit_types)\n",
    "    print()\n",
    "\n",
    "    print(\"Attack Target Parameter:\")\n",
    "    mask = action_mask_tile[29:sum(envs.action_space.nvec[1:])]\n",
    "    print(mask.reshape(7, 7))\n",
    "    print()\n",
    "\n",
    "\n",
    "def print_masked(mask, params):\n",
    "    for i, param in enumerate(params):\n",
    "        if mask[i] == 1:\n",
    "            print(f\"\\033[1m{param: ^7}\\033[0m\", end=\" \")\n",
    "        else:\n",
    "            print(f'{param: ^7}', end=\" \")\n",
    "    print()\n",
    "\n",
    "\n",
    "print_action_space(action_mask_tiles[2][1])\n",
    "    "
   ]
  },
  {
   "cell_type": "code",
   "execution_count": 16,
   "metadata": {},
   "outputs": [
    {
     "data": {
      "text/plain": [
       "[[1, 0, 0, 0, 0, 0],\n",
       " [0, 0, 0, 0],\n",
       " [0, 0, 0, 0],\n",
       " [0, 0, 0, 0],\n",
       " [0, 0, 0, 0],\n",
       " [0, 0, 0, 0, 0, 0, 0],\n",
       " array([0., 0., 0., ..., 0., 0., 0.])]"
      ]
     },
     "execution_count": 16,
     "metadata": {},
     "output_type": "execute_result"
    }
   ],
   "source": [
    "[\n",
    "    [1, 0, 0, 0, 0, 0],  # action type: {NOOP, move, harvest, return, produce, attack}\n",
    "    [0, 0, 0, 0],  # move parameter: {north, east, south, west}\n",
    "    [0, 0, 0, 0],  # harvest parameter: {north, east, south, west}\n",
    "    [0, 0, 0, 0],  # return parameter: {north, east, south, west}\n",
    "    [0, 0, 0, 0],  # produce_direction parameter: {north, east, south, west}\n",
    "    [0, 0, 0, 0, 0, 0, 0],  # produce_unit_type parameter: {resource, base, barracks, worker, light, heavy, ranged}\n",
    "    np.zeros(sum(envs.action_space.nvec[1:]))  # attack_target parameter: relative position of the unit that will be attacked\n",
    "]"
   ]
  },
  {
   "cell_type": "code",
   "execution_count": 34,
   "metadata": {},
   "outputs": [],
   "source": [
    "ac_move_east = np.array([\n",
    "    1,  # action type: {NOOP, move, harvest, return, produce, attack}\n",
    "    2,  # move parameter: {north, east, south, west}\n",
    "    0,  # harvest parameter: {north, east, south, west}\n",
    "    0,  # return parameter: {north, east, south, west}\n",
    "    0,  # produce_direction parameter: {north, east, south, west}\n",
    "    0,  # produce_unit_type parameter: {resource, base, barracks, worker, light, heavy, ranged}\n",
    "    0  # attack_target parameter: relative position of the unit that will be attacked\n",
    "])\n",
    "ac_produce_worker_south = np.array([4, 0, 0, 0, 2, 3, 0])"
   ]
  },
  {
   "cell_type": "code",
   "execution_count": 38,
   "metadata": {},
   "outputs": [
    {
     "data": {
      "text/plain": [
       "(4, 4, 7)"
      ]
     },
     "execution_count": 38,
     "metadata": {},
     "output_type": "execute_result"
    }
   ],
   "source": [
    "action = np.zeros((map_size, map_size, 7))\n",
    "action.shape"
   ]
  },
  {
   "cell_type": "code",
   "execution_count": 39,
   "metadata": {},
   "outputs": [],
   "source": [
    "action[1][0] = ac_move_east\n",
    "action[1][1] = ac_produce_worker_south"
   ]
  },
  {
   "cell_type": "code",
   "execution_count": 40,
   "metadata": {},
   "outputs": [
    {
     "data": {
      "text/plain": [
       "array([4., 0., 0., 0., 2., 3., 0.])"
      ]
     },
     "execution_count": 40,
     "metadata": {},
     "output_type": "execute_result"
    }
   ],
   "source": [
    "action[1][1]"
   ]
  },
  {
   "cell_type": "code",
   "execution_count": 41,
   "metadata": {},
   "outputs": [],
   "source": [
    "_ = envs.reset()"
   ]
  },
  {
   "cell_type": "code",
   "execution_count": 42,
   "metadata": {},
   "outputs": [
    {
     "ename": "AttributeError",
     "evalue": "'MicroRTSGridModeVecEnv' object has no attribute 'source_unit_mask'",
     "output_type": "error",
     "traceback": [
      "\u001b[0;31m---------------------------------------------------------------------------\u001b[0m",
      "\u001b[0;31mAttributeError\u001b[0m                            Traceback (most recent call last)",
      "Cell \u001b[0;32mIn[42], line 2\u001b[0m\n\u001b[1;32m      1\u001b[0m \u001b[38;5;28;01mfor\u001b[39;00m i \u001b[38;5;129;01min\u001b[39;00m \u001b[38;5;28mrange\u001b[39m(\u001b[38;5;241m50\u001b[39m):\n\u001b[0;32m----> 2\u001b[0m     response \u001b[38;5;241m=\u001b[39m \u001b[43menvs\u001b[49m\u001b[38;5;241;43m.\u001b[39;49m\u001b[43mstep\u001b[49m\u001b[43m(\u001b[49m\n\u001b[1;32m      3\u001b[0m \u001b[43m        \u001b[49m\u001b[43maction\u001b[49m\n\u001b[1;32m      4\u001b[0m \u001b[43m    \u001b[49m\u001b[43m)\u001b[49m\n\u001b[1;32m      6\u001b[0m     img \u001b[38;5;241m=\u001b[39m envs\u001b[38;5;241m.\u001b[39mrender(mode\u001b[38;5;241m=\u001b[39m\u001b[38;5;124m'\u001b[39m\u001b[38;5;124mrgb_array\u001b[39m\u001b[38;5;124m'\u001b[39m)\n\u001b[1;32m      7\u001b[0m     plt\u001b[38;5;241m.\u001b[39mimshow(img)\n",
      "File \u001b[0;32m~/Repos/MicroRTS-Py/gym_microrts/envs/vec_env.py:192\u001b[0m, in \u001b[0;36mMicroRTSGridModeVecEnv.step\u001b[0;34m(self, ac)\u001b[0m\n\u001b[1;32m    191\u001b[0m \u001b[38;5;28;01mdef\u001b[39;00m \u001b[38;5;21mstep\u001b[39m(\u001b[38;5;28mself\u001b[39m, ac):\n\u001b[0;32m--> 192\u001b[0m     \u001b[38;5;28;43mself\u001b[39;49m\u001b[38;5;241;43m.\u001b[39;49m\u001b[43mstep_async\u001b[49m\u001b[43m(\u001b[49m\u001b[43mac\u001b[49m\u001b[43m)\u001b[49m\n\u001b[1;32m    193\u001b[0m     \u001b[38;5;28;01mreturn\u001b[39;00m \u001b[38;5;28mself\u001b[39m\u001b[38;5;241m.\u001b[39mstep_wait()\n",
      "File \u001b[0;32m~/Repos/MicroRTS-Py/gym_microrts/envs/vec_env.py:172\u001b[0m, in \u001b[0;36mMicroRTSGridModeVecEnv.step_async\u001b[0;34m(self, actions)\u001b[0m\n\u001b[1;32m    170\u001b[0m actions \u001b[38;5;241m=\u001b[39m actions\u001b[38;5;241m.\u001b[39mreshape((\u001b[38;5;28mself\u001b[39m\u001b[38;5;241m.\u001b[39mnum_envs, \u001b[38;5;28mself\u001b[39m\u001b[38;5;241m.\u001b[39mwidth \u001b[38;5;241m*\u001b[39m \u001b[38;5;28mself\u001b[39m\u001b[38;5;241m.\u001b[39mheight, \u001b[38;5;241m-\u001b[39m\u001b[38;5;241m1\u001b[39m))\n\u001b[1;32m    171\u001b[0m actions \u001b[38;5;241m=\u001b[39m np\u001b[38;5;241m.\u001b[39mconcatenate((\u001b[38;5;28mself\u001b[39m\u001b[38;5;241m.\u001b[39msource_unit_idxs, actions), \u001b[38;5;241m2\u001b[39m)  \u001b[38;5;66;03m# specify source unit\u001b[39;00m\n\u001b[0;32m--> 172\u001b[0m actions \u001b[38;5;241m=\u001b[39m actions[np\u001b[38;5;241m.\u001b[39mwhere(\u001b[38;5;28;43mself\u001b[39;49m\u001b[38;5;241;43m.\u001b[39;49m\u001b[43msource_unit_mask\u001b[49m \u001b[38;5;241m==\u001b[39m \u001b[38;5;241m1\u001b[39m)]  \u001b[38;5;66;03m# valid actions\u001b[39;00m\n\u001b[1;32m    173\u001b[0m action_counts_per_env \u001b[38;5;241m=\u001b[39m \u001b[38;5;28mself\u001b[39m\u001b[38;5;241m.\u001b[39msource_unit_mask\u001b[38;5;241m.\u001b[39msum(\u001b[38;5;241m1\u001b[39m)\n\u001b[1;32m    174\u001b[0m java_actions \u001b[38;5;241m=\u001b[39m [\u001b[38;5;28;01mNone\u001b[39;00m] \u001b[38;5;241m*\u001b[39m \u001b[38;5;28mlen\u001b[39m(action_counts_per_env)\n",
      "\u001b[0;31mAttributeError\u001b[0m: 'MicroRTSGridModeVecEnv' object has no attribute 'source_unit_mask'"
     ]
    }
   ],
   "source": [
    "for i in range(50):\n",
    "    response = envs.step(\n",
    "        action\n",
    "    )\n",
    "\n",
    "    img = envs.render(mode='rgb_array')\n",
    "    plt.imshow(img)\n",
    "\n",
    "    if response[2][0]:\n",
    "        print(\"done\")\n",
    "        break"
   ]
  },
  {
   "cell_type": "code",
   "execution_count": null,
   "metadata": {},
   "outputs": [],
   "source": []
  },
  {
   "cell_type": "code",
   "execution_count": 163,
   "metadata": {},
   "outputs": [
    {
     "data": {
      "text/plain": [
       "array([[[1., 1., 1., ..., 1., 1., 1.],\n",
       "        [1., 1., 1., ..., 1., 1., 1.],\n",
       "        [1., 1., 1., ..., 1., 1., 1.],\n",
       "        ...,\n",
       "        [1., 1., 1., ..., 1., 1., 1.],\n",
       "        [1., 1., 1., ..., 1., 1., 1.],\n",
       "        [1., 1., 1., ..., 1., 1., 1.]],\n",
       "\n",
       "       [[1., 1., 1., ..., 1., 1., 1.],\n",
       "        [1., 1., 1., ..., 1., 1., 1.],\n",
       "        [1., 1., 1., ..., 1., 1., 1.],\n",
       "        ...,\n",
       "        [1., 1., 1., ..., 1., 1., 1.],\n",
       "        [1., 1., 1., ..., 1., 1., 1.],\n",
       "        [1., 1., 1., ..., 1., 1., 1.]],\n",
       "\n",
       "       [[1., 1., 1., ..., 1., 1., 1.],\n",
       "        [1., 1., 1., ..., 1., 1., 1.],\n",
       "        [1., 1., 1., ..., 1., 1., 1.],\n",
       "        ...,\n",
       "        [1., 1., 1., ..., 1., 1., 1.],\n",
       "        [1., 1., 1., ..., 1., 1., 1.],\n",
       "        [1., 1., 1., ..., 1., 1., 1.]],\n",
       "\n",
       "       ...,\n",
       "\n",
       "       [[1., 1., 1., ..., 1., 1., 1.],\n",
       "        [1., 1., 1., ..., 1., 1., 1.],\n",
       "        [1., 1., 1., ..., 1., 1., 1.],\n",
       "        ...,\n",
       "        [1., 1., 1., ..., 1., 1., 1.],\n",
       "        [1., 1., 1., ..., 1., 1., 1.],\n",
       "        [1., 1., 1., ..., 1., 1., 1.]],\n",
       "\n",
       "       [[1., 1., 1., ..., 1., 1., 1.],\n",
       "        [1., 1., 1., ..., 1., 1., 1.],\n",
       "        [1., 1., 1., ..., 1., 1., 1.],\n",
       "        ...,\n",
       "        [1., 1., 1., ..., 1., 1., 1.],\n",
       "        [1., 1., 1., ..., 1., 1., 1.],\n",
       "        [1., 1., 1., ..., 1., 1., 1.]],\n",
       "\n",
       "       [[1., 1., 1., ..., 1., 1., 1.],\n",
       "        [1., 1., 1., ..., 1., 1., 1.],\n",
       "        [1., 1., 1., ..., 1., 1., 1.],\n",
       "        ...,\n",
       "        [1., 1., 1., ..., 1., 1., 1.],\n",
       "        [1., 1., 1., ..., 1., 1., 1.],\n",
       "        [1., 1., 1., ..., 1., 1., 1.]]])"
      ]
     },
     "execution_count": 163,
     "metadata": {},
     "output_type": "execute_result"
    }
   ],
   "source": [
    "action "
   ]
  },
  {
   "cell_type": "code",
   "execution_count": 132,
   "metadata": {},
   "outputs": [],
   "source": [
    "action_mask = envs.get_action_mask()\n",
    "action_mask = action_mask.reshape(-1, action_mask.shape[-1])"
   ]
  },
  {
   "cell_type": "code",
   "execution_count": 133,
   "metadata": {},
   "outputs": [
    {
     "data": {
      "text/plain": [
       "(256, 78)"
      ]
     },
     "execution_count": 133,
     "metadata": {},
     "output_type": "execute_result"
    }
   ],
   "source": [
    "action_mask.shape"
   ]
  },
  {
   "cell_type": "code",
   "execution_count": null,
   "metadata": {},
   "outputs": [],
   "source": []
  }
 ],
 "metadata": {
  "kernelspec": {
   "display_name": "spinningup",
   "language": "python",
   "name": "python3"
  },
  "language_info": {
   "codemirror_mode": {
    "name": "ipython",
    "version": 3
   },
   "file_extension": ".py",
   "mimetype": "text/x-python",
   "name": "python",
   "nbconvert_exporter": "python",
   "pygments_lexer": "ipython3",
   "version": "3.9.0"
  }
 },
 "nbformat": 4,
 "nbformat_minor": 2
}
